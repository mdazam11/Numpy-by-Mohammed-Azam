{
 "cells": [
  {
   "cell_type": "markdown",
   "id": "87608cf6-2244-42ee-8d5c-4383da44f253",
   "metadata": {},
   "source": [
    "## Numpy\n",
    "- Numpy is a special python library that deals with numbers\n",
    "* Arrays are special data structures that numpy offers "
   ]
  },
  {
   "cell_type": "code",
   "execution_count": 1,
   "id": "98ca901b-8460-438b-81eb-12cf4fe27844",
   "metadata": {},
   "outputs": [],
   "source": [
    "import numpy as np\n",
    "import matplotlib.pyplot as plt\n",
    "import warnings \n",
    "warnings.filterwarnings('ignore')"
   ]
  },
  {
   "cell_type": "code",
   "execution_count": 2,
   "id": "e021735c-96e4-4ac4-b926-fd68fe68bfbb",
   "metadata": {},
   "outputs": [
    {
     "data": {
      "text/plain": [
       "array([0, 1, 2, 3, 4, 5, 6, 7])"
      ]
     },
     "execution_count": 2,
     "metadata": {},
     "output_type": "execute_result"
    }
   ],
   "source": [
    "# creating N-dim arrays \n",
    "arrays =  np.arange(8)\n",
    "arrays"
   ]
  },
  {
   "cell_type": "code",
   "execution_count": 3,
   "id": "725b4acf-20dc-4d70-bf53-c23247159d5c",
   "metadata": {},
   "outputs": [
    {
     "name": "stdout",
     "output_type": "stream",
     "text": [
      "<class 'numpy.ndarray'>\n"
     ]
    }
   ],
   "source": [
    "print(type(arrays))"
   ]
  },
  {
   "cell_type": "code",
   "execution_count": 4,
   "id": "fba6294e-a6a5-4bac-83b2-1959b5dd7f1c",
   "metadata": {},
   "outputs": [
    {
     "data": {
      "text/plain": [
       "array([1, 2, 3, 4, 5, 6, 7])"
      ]
     },
     "execution_count": 4,
     "metadata": {},
     "output_type": "execute_result"
    }
   ],
   "source": [
    "# If we don't want 0 in our array\n",
    "arr =  np.arange(1,8)\n",
    "arr"
   ]
  },
  {
   "cell_type": "code",
   "execution_count": 5,
   "id": "5be9d154-6683-4229-b466-36dd538ab77d",
   "metadata": {},
   "outputs": [
    {
     "data": {
      "text/plain": [
       "array([1, 3, 5, 7])"
      ]
     },
     "execution_count": 5,
     "metadata": {},
     "output_type": "execute_result"
    }
   ],
   "source": [
    "# If we want to step 2 values ( we want odd numbers)\n",
    "odd = np.arange(1,8,2)\n",
    "odd"
   ]
  },
  {
   "cell_type": "code",
   "execution_count": 6,
   "id": "443554e9-58fb-4052-802b-6da6f6145cea",
   "metadata": {},
   "outputs": [
    {
     "data": {
      "text/plain": [
       "array([1. , 1.5, 2. , 2.5, 3. , 3.5, 4. , 4.5, 5. , 5.5, 6. , 6.5, 7. ,\n",
       "       7.5])"
      ]
     },
     "execution_count": 6,
     "metadata": {},
     "output_type": "execute_result"
    }
   ],
   "source": [
    "# To generate float values \n",
    "floatt = np.arange(1,8,0.5)\n",
    "floatt"
   ]
  },
  {
   "cell_type": "code",
   "execution_count": 7,
   "id": "d305178d-05c1-4e9e-b950-19bfe2632916",
   "metadata": {},
   "outputs": [
    {
     "data": {
      "text/plain": [
       "array([-1.  , -0.75, -0.5 , -0.25,  0.  ,  0.25,  0.5 ,  0.75,  1.  ,\n",
       "        1.25,  1.5 ,  1.75,  2.  ,  2.25,  2.5 ,  2.75,  3.  ,  3.25,\n",
       "        3.5 ,  3.75,  4.  ,  4.25,  4.5 ,  4.75,  5.  ,  5.25,  5.5 ,\n",
       "        5.75,  6.  ,  6.25,  6.5 ,  6.75,  7.  ,  7.25,  7.5 ,  7.75])"
      ]
     },
     "execution_count": 7,
     "metadata": {},
     "output_type": "execute_result"
    }
   ],
   "source": [
    "# to deal with -ve as well as float values\n",
    "neg_flo = np.arange(-1,8,0.25)\n",
    "neg_flo"
   ]
  },
  {
   "cell_type": "code",
   "execution_count": 8,
   "id": "3e4018bd-e30a-4247-bb21-b01edb4008c7",
   "metadata": {},
   "outputs": [
    {
     "name": "stdout",
     "output_type": "stream",
     "text": [
      "<class 'numpy.int32'>\n"
     ]
    }
   ],
   "source": [
    "# to generate arrays from list \n",
    "lis = np.array([1,2,3])\n",
    "print(type(lis[0])) # to know storage of variable "
   ]
  },
  {
   "cell_type": "markdown",
   "id": "148e694d-1ab1-4d63-8dd2-0818b8c75ff6",
   "metadata": {},
   "source": [
    "we need only 2 bit to store 3 numbers. For this reason specify dtype = 8 ( or any number )"
   ]
  },
  {
   "cell_type": "code",
   "execution_count": 9,
   "id": "97293dbb-1a57-41db-b11e-a671ad97e922",
   "metadata": {},
   "outputs": [
    {
     "name": "stdout",
     "output_type": "stream",
     "text": [
      "<class 'numpy.int8'>\n"
     ]
    }
   ],
   "source": [
    "# to reduce storage of variabl \n",
    "lis = np.array([1,2,3] , dtype = np.int8)\n",
    "print(type(lis[0]))"
   ]
  },
  {
   "cell_type": "code",
   "execution_count": 10,
   "id": "43940831-7c9e-41ea-a622-339341a10724",
   "metadata": {},
   "outputs": [
    {
     "data": {
      "text/plain": [
       "array([[1, 2, 3],\n",
       "       [4, 5, 6]], dtype=int8)"
      ]
     },
     "execution_count": 10,
     "metadata": {},
     "output_type": "execute_result"
    }
   ],
   "source": [
    "#2D Arrays\n",
    "arr = np.array([[1,2,3],[4,5,6]] , dtype = np.int8)\n",
    "arr"
   ]
  },
  {
   "cell_type": "code",
   "execution_count": 11,
   "id": "5cee214f-a41f-4680-9855-9a433f0fc988",
   "metadata": {},
   "outputs": [
    {
     "data": {
      "text/plain": [
       "array([[0, 2, 4, 6],\n",
       "       [1, 3, 5, 7]])"
      ]
     },
     "execution_count": 11,
     "metadata": {},
     "output_type": "execute_result"
    }
   ],
   "source": [
    "# to create a 2D array from arange function \n",
    "arr = np.array((np.arange(0,8,2) , np.arange(1,8,2)))\n",
    "arr"
   ]
  },
  {
   "cell_type": "code",
   "execution_count": 12,
   "id": "29cabfb7-9419-4d82-a99d-e3a277baaa27",
   "metadata": {},
   "outputs": [
    {
     "name": "stdout",
     "output_type": "stream",
     "text": [
      "1D shape: (3,)\n",
      "2D shape: (2, 4)\n"
     ]
    }
   ],
   "source": [
    "print(\"1D shape:\" , lis.shape) \n",
    "print(\"2D shape:\" , arr.shape)"
   ]
  },
  {
   "cell_type": "code",
   "execution_count": 13,
   "id": "85ab7024-3c49-4089-8044-cf082d0a4487",
   "metadata": {},
   "outputs": [
    {
     "data": {
      "text/plain": [
       "array([[0, 2],\n",
       "       [4, 6],\n",
       "       [1, 3],\n",
       "       [5, 7]])"
      ]
     },
     "execution_count": 13,
     "metadata": {},
     "output_type": "execute_result"
    }
   ],
   "source": [
    "# to change the sahpe of an array\n",
    "d =  arr.reshape((4,2))\n",
    "d"
   ]
  },
  {
   "cell_type": "code",
   "execution_count": 14,
   "id": "8468a9f7-64c3-4177-827d-ea36eeb671b5",
   "metadata": {},
   "outputs": [
    {
     "data": {
      "text/plain": [
       "array([[[0, 2],\n",
       "        [4, 6]],\n",
       "\n",
       "       [[1, 3],\n",
       "        [5, 7]]])"
      ]
     },
     "execution_count": 14,
     "metadata": {},
     "output_type": "execute_result"
    }
   ],
   "source": [
    "# 3D Array\n",
    "ddd = arr.reshape((2,2,2))\n",
    "ddd"
   ]
  },
  {
   "cell_type": "code",
   "execution_count": 15,
   "id": "710cc4c0-dca2-43d0-ad16-bd31ba90a18f",
   "metadata": {},
   "outputs": [
    {
     "data": {
      "text/plain": [
       "array([[0., 0.],\n",
       "       [0., 0.]])"
      ]
     },
     "execution_count": 15,
     "metadata": {},
     "output_type": "execute_result"
    }
   ],
   "source": [
    "# to create an empty array\n",
    "emp = np.zeros((2,2))\n",
    "emp"
   ]
  },
  {
   "cell_type": "code",
   "execution_count": 16,
   "id": "e97473e6-7e2d-4574-afef-49b93cc374cb",
   "metadata": {},
   "outputs": [
    {
     "data": {
      "text/plain": [
       "array([[1., 1.],\n",
       "       [1., 1.]])"
      ]
     },
     "execution_count": 16,
     "metadata": {},
     "output_type": "execute_result"
    }
   ],
   "source": [
    "# ones \n",
    "ones = np.ones((2,2))\n",
    "ones "
   ]
  },
  {
   "cell_type": "code",
   "execution_count": 17,
   "id": "bb91bbb8-d089-41a9-92df-406dff7217b0",
   "metadata": {},
   "outputs": [
    {
     "data": {
      "text/plain": [
       "array([[1., 1.],\n",
       "       [1., 1.]])"
      ]
     },
     "execution_count": 17,
     "metadata": {},
     "output_type": "execute_result"
    }
   ],
   "source": [
    "# for this code it will return zeros \n",
    "empty = np.empty((2,2))\n",
    "empty "
   ]
  },
  {
   "cell_type": "code",
   "execution_count": 18,
   "id": "2fc41e90-5f5f-4b32-a736-ab82045966b3",
   "metadata": {},
   "outputs": [
    {
     "data": {
      "text/plain": [
       "array([[[0.00000000e+000, 0.00000000e+000],\n",
       "        [0.00000000e+000, 0.00000000e+000]],\n",
       "\n",
       "       [[0.00000000e+000, 6.32404027e-321],\n",
       "        [1.05699242e-307, 3.11523242e-307]]])"
      ]
     },
     "execution_count": 18,
     "metadata": {},
     "output_type": "execute_result"
    }
   ],
   "source": [
    "# but for this it will return random values\n",
    "emo_val = np.empty((2,2,2))\n",
    "emo_val"
   ]
  },
  {
   "cell_type": "code",
   "execution_count": 19,
   "id": "dc2b7c4a-8a9e-47f7-9093-4d8f5962871e",
   "metadata": {},
   "outputs": [
    {
     "data": {
      "text/plain": [
       "array([[1., 0., 0.],\n",
       "       [0., 1., 0.],\n",
       "       [0., 0., 1.]])"
      ]
     },
     "execution_count": 19,
     "metadata": {},
     "output_type": "execute_result"
    }
   ],
   "source": [
    "# to create diagonal array\n",
    "eye = np.eye(3)\n",
    "eye"
   ]
  },
  {
   "cell_type": "code",
   "execution_count": 20,
   "id": "51fa9a43-8b6b-404b-8abb-e511194c7524",
   "metadata": {},
   "outputs": [
    {
     "data": {
      "text/plain": [
       "array([[0., 1., 0.],\n",
       "       [0., 0., 1.],\n",
       "       [0., 0., 0.]])"
      ]
     },
     "execution_count": 20,
     "metadata": {},
     "output_type": "execute_result"
    }
   ],
   "source": [
    "# 1 diag above\n",
    "dia_ab = np.eye(3 , k = 1)\n",
    "dia_ab"
   ]
  },
  {
   "cell_type": "code",
   "execution_count": 24,
   "id": "5ab64190-088d-462d-bab6-3027693c28c6",
   "metadata": {},
   "outputs": [
    {
     "data": {
      "text/plain": [
       "array([[0., 1., 0.],\n",
       "       [0., 0., 1.],\n",
       "       [0., 0., 0.]])"
      ]
     },
     "execution_count": 24,
     "metadata": {},
     "output_type": "execute_result"
    }
   ],
   "source": [
    "# 1 diag below \n",
    "diao_bel = np.eye(3 , k = -1)\n",
    "dia_ab"
   ]
  },
  {
   "cell_type": "code",
   "execution_count": 28,
   "id": "d7cd0421-60e6-42db-9206-f2df3ae720bb",
   "metadata": {},
   "outputs": [
    {
     "name": "stdout",
     "output_type": "stream",
     "text": [
      "all 0's are converted to 2: [[1. 2. 2.]\n",
      " [2. 1. 2.]\n",
      " [2. 2. 1.]]\n"
     ]
    }
   ],
   "source": [
    "# to manipulate this array\n",
    "eye[eye == 0] = 2\n",
    "print(\"all 0's are converted to 2:\" , eye)"
   ]
  },
  {
   "cell_type": "code",
   "execution_count": 29,
   "id": "08fb6745-8bb6-4063-929d-1dba40c7b688",
   "metadata": {},
   "outputs": [
    {
     "name": "stdout",
     "output_type": "stream",
     "text": [
      "[[9. 2. 2.]\n",
      " [2. 9. 2.]\n",
      " [2. 2. 9.]] all the values are converted to 9 which are less than 2\n"
     ]
    }
   ],
   "source": [
    "eye[eye < 2] = 9\n",
    "print(eye, \"all the values are converted to 9 which are less than 2\")"
   ]
  },
  {
   "cell_type": "code",
   "execution_count": 30,
   "id": "066612ea-2b61-4457-a475-f6c81dc1a818",
   "metadata": {},
   "outputs": [
    {
     "name": "stdout",
     "output_type": "stream",
     "text": [
      "[[3. 3. 3.]\n",
      " [2. 9. 2.]\n",
      " [2. 2. 9.]] 1st row values will be changed to 3\n"
     ]
    }
   ],
   "source": [
    "# 1st row to fill with 3\n",
    "eye[0] = 3\n",
    "print(eye, \"1st row values will be changed to 3\")"
   ]
  },
  {
   "cell_type": "code",
   "execution_count": 39,
   "id": "2d14c54d-4a8a-482a-8b22-51544e5cc05e",
   "metadata": {},
   "outputs": [
    {
     "name": "stdout",
     "output_type": "stream",
     "text": [
      "[[1. 1. 1.]\n",
      " [1. 1. 1.]\n",
      " [5. 5. 4.]]\n"
     ]
    }
   ],
   "source": [
    "# 1st 2 rows to fill 3\n",
    "eye[:2]=1\n",
    "print(eye)"
   ]
  },
  {
   "cell_type": "code",
   "execution_count": 40,
   "id": "b4377679-94a0-4d3e-a362-01ad6243cfc7",
   "metadata": {},
   "outputs": [
    {
     "name": "stdout",
     "output_type": "stream",
     "text": [
      "[[1. 1. 1.]\n",
      " [6. 6. 6.]\n",
      " [6. 6. 6.]]\n"
     ]
    }
   ],
   "source": [
    "# last 2 rows to fill as 3\n",
    "eye[1:]=6\n",
    "print(eye)"
   ]
  },
  {
   "cell_type": "code",
   "execution_count": 41,
   "id": "c2415b51-666f-4f9f-9131-88b15f29184b",
   "metadata": {},
   "outputs": [
    {
     "name": "stdout",
     "output_type": "stream",
     "text": [
      "[[4. 1. 1.]\n",
      " [4. 6. 6.]\n",
      " [4. 6. 6.]]\n"
     ]
    }
   ],
   "source": [
    "# 1st col = 4\n",
    "eye[:,0]=4\n",
    "print(eye)"
   ]
  },
  {
   "cell_type": "code",
   "execution_count": 42,
   "id": "7411b9ab-c7ea-4abd-93f5-a99b344dcf66",
   "metadata": {},
   "outputs": [
    {
     "data": {
      "text/plain": [
       "array([[4., 1., 7.],\n",
       "       [4., 6., 7.],\n",
       "       [4., 6., 7.]])"
      ]
     },
     "execution_count": 42,
     "metadata": {},
     "output_type": "execute_result"
    }
   ],
   "source": [
    "## to select from end lst column \n",
    "eye[:,-1]=7\n",
    "eye"
   ]
  },
  {
   "cell_type": "code",
   "execution_count": 43,
   "id": "cda6bd1a-b4bf-45a6-9329-54537cbde245",
   "metadata": {},
   "outputs": [
    {
     "data": {
      "text/plain": [
       "array([[4., 1., 7.],\n",
       "       [5., 5., 7.],\n",
       "       [5., 5., 7.]])"
      ]
     },
     "execution_count": 43,
     "metadata": {},
     "output_type": "execute_result"
    }
   ],
   "source": [
    "# to cahnge last 2 rows = 4 and first 2 cols =  5\n",
    "eye[1:,:2] = 5\n",
    "eye"
   ]
  },
  {
   "cell_type": "markdown",
   "id": "d8ea9347-d718-4808-ab74-a1fbe4ef50b0",
   "metadata": {},
   "source": [
    "## Numpy practice "
   ]
  },
  {
   "cell_type": "code",
   "execution_count": null,
   "id": "20ad9707-7299-4140-a0a3-61eaad64d0c7",
   "metadata": {},
   "outputs": [],
   "source": [
    "import numpy as np"
   ]
  },
  {
   "cell_type": "code",
   "execution_count": null,
   "id": "fa7e501a-c8b2-45ea-b257-995ec516b0a9",
   "metadata": {},
   "outputs": [],
   "source": [
    "# how to load diff types of arrays \n",
    "# 1st method \n",
    "x = np.array([58,55,50.6])"
   ]
  },
  {
   "cell_type": "code",
   "execution_count": null,
   "id": "9f4dfe65-35a1-42c6-9819-2da201b95389",
   "metadata": {},
   "outputs": [],
   "source": [
    "# 2nd method\n",
    "x1 = np.linspace(0,10,5)\n",
    "x1"
   ]
  },
  {
   "cell_type": "code",
   "execution_count": null,
   "id": "00977b5e-c23c-480f-8feb-7b8976f0aaff",
   "metadata": {
    "slideshow": {
     "slide_type": "subslide"
    },
    "tags": []
   },
   "outputs": [],
   "source": [
    "# 3rd method \n",
    "x2 = np.arange(1,8,2)\n",
    "x2"
   ]
  },
  {
   "cell_type": "code",
   "execution_count": null,
   "id": "c37a5fa4-2a68-439c-a12d-7d183ff890a8",
   "metadata": {
    "tags": []
   },
   "outputs": [],
   "source": [
    "# basic plot \n",
    "x = np.linspace(0,20,10)\n",
    "y = x**2"
   ]
  },
  {
   "cell_type": "code",
   "execution_count": null,
   "id": "6101af01-0645-4c1d-8a8c-260cea855754",
   "metadata": {},
   "outputs": [],
   "source": [
    "import matplotlib.pyplot as plt"
   ]
  },
  {
   "cell_type": "code",
   "execution_count": null,
   "id": "291ee074-60f6-443d-ac29-512ba4064bb6",
   "metadata": {
    "tags": []
   },
   "outputs": [],
   "source": [
    "plt.plot(x,y,'r--')\n",
    "plt.xlabel('X',fontsize = 15)\n",
    "plt.ylabel('Y', fontsize = 15)"
   ]
  },
  {
   "cell_type": "code",
   "execution_count": null,
   "id": "26bf047b-075c-4da6-a45c-4390bcaef07c",
   "metadata": {
    "tags": []
   },
   "outputs": [],
   "source": [
    "plt.plot(x,y,'red')"
   ]
  },
  {
   "cell_type": "code",
   "execution_count": null,
   "id": "ecea9fa5-3661-4e0e-bdd7-cf9630d8125f",
   "metadata": {},
   "outputs": [],
   "source": [
    "a = np.array([3,5,7,9])"
   ]
  },
  {
   "cell_type": "code",
   "execution_count": null,
   "id": "20acf915-e3da-48a3-bc48-52e6c9e48bc7",
   "metadata": {},
   "outputs": [],
   "source": [
    "# gives \n",
    "b = np.linspace(0,20,10)\n",
    "b"
   ]
  },
  {
   "cell_type": "code",
   "execution_count": null,
   "id": "22d9c7de-46da-45e3-bd2c-8300e8d697ff",
   "metadata": {},
   "outputs": [],
   "source": [
    "c = np.arange(1,20,2)\n",
    "c"
   ]
  },
  {
   "cell_type": "code",
   "execution_count": null,
   "id": "ea24c125-7cb8-4093-88e7-4ed8eb98b260",
   "metadata": {},
   "outputs": [],
   "source": [
    "zeros  = np.zeros(10)\n",
    "zeros"
   ]
  },
  {
   "cell_type": "code",
   "execution_count": null,
   "id": "831dea76-e8b5-44fd-b2d1-f77ec57e98cf",
   "metadata": {},
   "outputs": [],
   "source": [
    "ones = np.ones(10)\n",
    "ones"
   ]
  },
  {
   "cell_type": "code",
   "execution_count": null,
   "id": "a8bd5e93-f5fd-4a25-bdbe-4dd46e847a49",
   "metadata": {},
   "outputs": [],
   "source": [
    "# gives random numbers b/w (0 to 10)\n",
    "random_num = np.random.random(10)\n",
    "random_num"
   ]
  },
  {
   "cell_type": "code",
   "execution_count": null,
   "id": "3a806ffa-26e0-4afd-b339-234f112642ba",
   "metadata": {},
   "outputs": [],
   "source": [
    "# gives random numbes based on gausion distribution ( where mean =0 and std =1 )\n",
    "randn_num = np.random.randn(10)\n",
    "randn_num"
   ]
  },
  {
   "cell_type": "markdown",
   "id": "96ea2de1-87f1-4696-b663-b79c5de234ba",
   "metadata": {},
   "source": [
    "- List & Arrays are similar but in Arrays we can do elemnt wise Operations where as in List we can't"
   ]
  },
  {
   "cell_type": "code",
   "execution_count": null,
   "id": "83c477d8-bdfc-47f5-9cfb-1be176b90dff",
   "metadata": {},
   "outputs": [],
   "source": [
    "# Arrays Operations \n",
    "a"
   ]
  },
  {
   "cell_type": "code",
   "execution_count": null,
   "id": "a860fdff-ee85-4917-a3b9-2868f114f3a1",
   "metadata": {},
   "outputs": [],
   "source": [
    "2/a"
   ]
  },
  {
   "cell_type": "code",
   "execution_count": null,
   "id": "0811ac39-0de1-452e-9a75-3680a149998e",
   "metadata": {},
   "outputs": [],
   "source": [
    "a+2"
   ]
  },
  {
   "cell_type": "code",
   "execution_count": null,
   "id": "bb4ee3c2-b7be-43de-a4c7-5a124cfd7445",
   "metadata": {},
   "outputs": [],
   "source": [
    "1/a+a/9+a"
   ]
  },
  {
   "cell_type": "code",
   "execution_count": null,
   "id": "d5654571-9127-44de-99ce-70ff190a50c0",
   "metadata": {},
   "outputs": [],
   "source": [
    "x = np.linspace(0,1,100)\n",
    "y = x**2"
   ]
  },
  {
   "cell_type": "code",
   "execution_count": null,
   "id": "eb89ba55-5967-439a-a397-2ea21042db6a",
   "metadata": {},
   "outputs": [],
   "source": [
    "plt.plot(x,y,'r--')\n",
    "plt.xlabel('X', fontsize = 20)\n",
    "plt.ylabel('Y',fontsize=20)"
   ]
  },
  {
   "cell_type": "code",
   "execution_count": null,
   "id": "536b2566-2f4b-4c2e-b443-172fb7022133",
   "metadata": {},
   "outputs": [],
   "source": [
    "# we can also chain functions together (x^2*sinx/e^-x) \n",
    "def f(x):\n",
    "    return x**2*np.sin(x)/np.exp(-x)\n",
    "x = np.linspace(0,10,100)\n",
    "y = f(x)\n",
    "plt.plot(x,y)"
   ]
  },
  {
   "cell_type": "code",
   "execution_count": null,
   "id": "ea4fc928-6ab4-4f57-a167-899e293b49a0",
   "metadata": {},
   "outputs": [],
   "source": [
    "# Arrays Indexing /Slicing \n",
    "a1 = np.array([2,58,55,66,54])"
   ]
  },
  {
   "cell_type": "code",
   "execution_count": null,
   "id": "4e160548-f83f-4481-94a1-983f4641b472",
   "metadata": {},
   "outputs": [],
   "source": [
    "a1[2:]"
   ]
  },
  {
   "cell_type": "code",
   "execution_count": null,
   "id": "1f4dca70-f414-4016-b946-6df0787cca7d",
   "metadata": {},
   "outputs": [],
   "source": [
    "a1[:-2]"
   ]
  },
  {
   "cell_type": "code",
   "execution_count": null,
   "id": "a4fa435f-6169-4f92-b679-0f2fb02dc9df",
   "metadata": {},
   "outputs": [],
   "source": [
    "a1[1:-2]"
   ]
  },
  {
   "cell_type": "code",
   "execution_count": null,
   "id": "cbee37b3-a557-47d7-9dca-f829e71601e3",
   "metadata": {},
   "outputs": [],
   "source": [
    "# Boolean Indexing \n",
    "a1>3"
   ]
  },
  {
   "cell_type": "code",
   "execution_count": null,
   "id": "b3c0318c-1f1c-4d3b-a3da-81a7130f5af0",
   "metadata": {},
   "outputs": [],
   "source": [
    "a1"
   ]
  },
  {
   "cell_type": "code",
   "execution_count": null,
   "id": "21cdd94e-0298-4a1b-be25-d9b695fe8796",
   "metadata": {},
   "outputs": [],
   "source": [
    "# Give numbers which are greater than 3\n",
    "a1[a1>3]"
   ]
  },
  {
   "cell_type": "code",
   "execution_count": null,
   "id": "48322406-eb9a-40ac-9c0a-47635feecefb",
   "metadata": {},
   "outputs": [],
   "source": [
    "# Eample ( this is like give me string I will give you 1st elemtnt of that stirng)\n",
    "f = lambda s:s[0]\n",
    "f('animal')"
   ]
  },
  {
   "cell_type": "code",
   "execution_count": null,
   "id": "9b66fa96-adfe-497a-8aab-2656d0adba6c",
   "metadata": {},
   "outputs": [],
   "source": [
    "# Suppose we want only values which start with 'J'\n",
    "names = np.array(['James','John Cena','HHH','Conor','Khabib'])"
   ]
  },
  {
   "cell_type": "code",
   "execution_count": null,
   "id": "6e435b59-10b9-42cb-947f-1b6ef7fc555e",
   "metadata": {},
   "outputs": [],
   "source": [
    "# For this type of problem we can use for loop or use np.vectorize \n",
    "fst_letter_J = np.vectorize(lambda s:s[0])(names)=='J'\n",
    "fst_letter_J"
   ]
  },
  {
   "cell_type": "code",
   "execution_count": null,
   "id": "efbb9dcc-0d6e-484f-b120-35193ea62245",
   "metadata": {},
   "outputs": [],
   "source": [
    "names[fst_letter_J]"
   ]
  },
  {
   "cell_type": "code",
   "execution_count": null,
   "id": "c79373ba-0c09-4501-8bc7-b825d8f9e429",
   "metadata": {},
   "outputs": [],
   "source": [
    "# example To caheck wheter a1 is divisble by 4\n",
    "a1 = np.array([2,4,6,8,10])"
   ]
  },
  {
   "cell_type": "code",
   "execution_count": null,
   "id": "3ec0f1a5-4661-466c-93ba-110676217f2c",
   "metadata": {},
   "outputs": [],
   "source": [
    "a1%4"
   ]
  },
  {
   "cell_type": "code",
   "execution_count": null,
   "id": "c70da00d-4966-42c8-858a-0636f27d20b7",
   "metadata": {},
   "outputs": [],
   "source": [
    "a1%4==0"
   ]
  },
  {
   "cell_type": "code",
   "execution_count": null,
   "id": "694ad9c3-3fbe-409c-9fb7-5d694ed5c5b6",
   "metadata": {},
   "outputs": [],
   "source": [
    "a1[a1%4==0]"
   ]
  },
  {
   "cell_type": "code",
   "execution_count": null,
   "id": "8644fda2-5699-40b6-960d-3790c6712403",
   "metadata": {
    "tags": []
   },
   "outputs": [],
   "source": [
    "## Calculus /Statistical functions \n",
    "a = 2*np.random.randn(1000)+10\n",
    "a"
   ]
  },
  {
   "cell_type": "markdown",
   "id": "af43a8af-5481-442c-ac11-7ed09194e2a2",
   "metadata": {},
   "source": [
    "- randn gives 1000 values with mean = 0 and std = 1\n",
    "- 10 will shift the mean and multiplying with 2 will expand std"
   ]
  },
  {
   "cell_type": "code",
   "execution_count": null,
   "id": "e5e191a3-a79d-4926-9b71-ba5c7bcf1e08",
   "metadata": {},
   "outputs": [],
   "source": [
    "# finding mean \n",
    "np.mean(a)"
   ]
  },
  {
   "cell_type": "code",
   "execution_count": null,
   "id": "d3421cc9-1972-4c6a-ac3b-bc77fc801eba",
   "metadata": {},
   "outputs": [],
   "source": [
    "# finding STD\n",
    "np.std(a)"
   ]
  },
  {
   "cell_type": "code",
   "execution_count": null,
   "id": "e3d9e3ba-6a32-46e7-980f-54137aaa8403",
   "metadata": {},
   "outputs": [],
   "source": [
    "# to find out how many % of numbers are less than 80\n",
    "np.percentile(a,80)"
   ]
  },
  {
   "cell_type": "markdown",
   "id": "65cda910-7ee1-44aa-87a8-4ffff7b2f655",
   "metadata": {},
   "source": [
    "- this means 11.%78 values are less than 80"
   ]
  },
  {
   "cell_type": "markdown",
   "id": "0e81fcd7-bfc5-4fd5-817e-86bbaff1c3ac",
   "metadata": {},
   "source": [
    "## Integrals and Derivatives "
   ]
  },
  {
   "cell_type": "code",
   "execution_count": null,
   "id": "f02350a5-62b4-4970-8d7a-dc939f65b984",
   "metadata": {},
   "outputs": [],
   "source": [
    "# Example\n",
    "np.cumsum(np.array([2,4,5]))"
   ]
  },
  {
   "cell_type": "code",
   "execution_count": null,
   "id": "049d7065-6fc6-4de5-8eb0-9bdcd161f683",
   "metadata": {},
   "outputs": [],
   "source": [
    "x = np.linspace(1,10,100)\n",
    "y = 1/x**2*np.sin(x)"
   ]
  },
  {
   "cell_type": "code",
   "execution_count": null,
   "id": "805ab3e0-266b-483e-8c49-e100d948aa69",
   "metadata": {
    "tags": []
   },
   "outputs": [],
   "source": [
    "plt.plot(x)"
   ]
  },
  {
   "cell_type": "code",
   "execution_count": null,
   "id": "8448aefe-9108-4e75-886c-fb6c4d0a5ca9",
   "metadata": {},
   "outputs": [],
   "source": [
    "# find derivative\n",
    "dydx = np.gradient(y,x)"
   ]
  },
  {
   "cell_type": "code",
   "execution_count": null,
   "id": "ad8fb7fc-2868-47ec-b672-60d078dd96ce",
   "metadata": {},
   "outputs": [],
   "source": [
    "# find integrals\n",
    "y_int = np.cumsum(y)*(x[1]-x[0])\n"
   ]
  },
  {
   "cell_type": "code",
   "execution_count": null,
   "id": "81fb81cf-8616-41c1-9a05-160c94ebe885",
   "metadata": {},
   "outputs": [],
   "source": [
    "plt.plot(x,y,'r')\n",
    "plt.plot(x,dydx,'g')\n",
    "plt.plot(x,y_int,'b')"
   ]
  },
  {
   "cell_type": "markdown",
   "id": "f4e70b84-d961-4f92-b4c8-47143f242ca3",
   "metadata": {},
   "source": [
    "# Exapmle Problemms \n",
    "- Let $y = e^{-x/10}sin(x)$ consider 10000$x$ intervals in the range [0,10]\n",
    "1. Plot $y$ vd $x$ in range [0,10] \n",
    "2. Compute the mean and std of $y$ for $x$ values in [4,7]\n",
    "3. For $x$ in range [4,7] find the value of $y_m$ such that 80% of y values are less thab $y_m$\n",
    "4. Plot $dydx$ vs $x$\n",
    "5. Find locations where $dydx$ = 0 $(root findig)$"
   ]
  },
  {
   "cell_type": "code",
   "execution_count": null,
   "id": "f7402976-e075-4912-b325-0879fa18e243",
   "metadata": {
    "tags": []
   },
   "outputs": [],
   "source": [
    "#1 \n",
    "N = 10000\n",
    "x = np.linspace(0,10,N+1)\n",
    "y = np.exp(-x/10)*np.sin(x)\n",
    "plt.plot(x,y,'black')\n",
    "plt.xlabel('X',fontsize = 15)\n",
    "plt.ylabel('Y',fontsize = 15)"
   ]
  },
  {
   "cell_type": "code",
   "execution_count": null,
   "id": "293c861f-fab7-4fe2-9834-b7a2841c686f",
   "metadata": {},
   "outputs": [],
   "source": [
    "#2 \n",
    "x >=4"
   ]
  },
  {
   "cell_type": "code",
   "execution_count": null,
   "id": "0c3fc46f-351d-4a57-b0d6-0c63776c2e6f",
   "metadata": {},
   "outputs": [],
   "source": [
    "x<=7"
   ]
  },
  {
   "cell_type": "code",
   "execution_count": null,
   "id": "c6871dd2-38d1-49fa-9da1-90845c45c2ba",
   "metadata": {},
   "outputs": [],
   "source": [
    "(x>=4)*(x<=7)"
   ]
  },
  {
   "cell_type": "code",
   "execution_count": null,
   "id": "75c19309-3212-4e20-8b5d-4eea43bf001a",
   "metadata": {},
   "outputs": [],
   "source": [
    "y[(x>=4)*(x<=7)]"
   ]
  },
  {
   "cell_type": "code",
   "execution_count": null,
   "id": "aae86230-c108-42f2-ae79-f364b87e8f5d",
   "metadata": {},
   "outputs": [],
   "source": [
    "#2\n",
    "# mean\n",
    "np.mean(y[(x>=4)*(x<=7)])"
   ]
  },
  {
   "cell_type": "code",
   "execution_count": null,
   "id": "cad39316-90ed-47e8-8fb3-4d222f801255",
   "metadata": {},
   "outputs": [],
   "source": [
    "# std\n",
    "np.std(y[(x>=4)*(x<=7)])"
   ]
  },
  {
   "cell_type": "code",
   "execution_count": null,
   "id": "abeeb701-1c92-4aac-8a2b-52c1368897a5",
   "metadata": {},
   "outputs": [],
   "source": [
    "#3 (use percentile for this)\n",
    "np.percentile(y[(x>=4)*(x<=7)],80)"
   ]
  },
  {
   "cell_type": "code",
   "execution_count": null,
   "id": "766fed55-b369-446d-a3e5-0ce8482def42",
   "metadata": {},
   "outputs": [],
   "source": [
    "#4 \n",
    "dydx = np.gradient(y,x)\n",
    "plt.plot(x,dydx,'b')\n",
    "plt.xlabel('X')\n",
    "plt.ylabel('dydx')"
   ]
  },
  {
   "cell_type": "code",
   "execution_count": null,
   "id": "3ac2564e-92f9-43a2-a4f6-28e7aaaac61a",
   "metadata": {},
   "outputs": [],
   "source": [
    "#5.(root finding) dydx =0\n",
    "dydx = np.gradient(y,x)\n",
    "dydx"
   ]
  },
  {
   "cell_type": "code",
   "execution_count": null,
   "id": "350c1b25-96b5-4325-acaa-54afe800a4ea",
   "metadata": {},
   "outputs": [],
   "source": [
    "dydx[1:]"
   ]
  },
  {
   "cell_type": "code",
   "execution_count": null,
   "id": "abf7b4ea-d691-4030-a76a-c8024ae74232",
   "metadata": {},
   "outputs": [],
   "source": [
    "dydx[:-1]"
   ]
  },
  {
   "cell_type": "code",
   "execution_count": null,
   "id": "49c6fd73-b031-4227-add4-0bf0fa7e190f",
   "metadata": {},
   "outputs": [],
   "source": [
    "dydx[1:]*dydx[:-1]<0"
   ]
  },
  {
   "cell_type": "code",
   "execution_count": null,
   "id": "3f6d3338-1f09-4390-adbe-c009144a5f29",
   "metadata": {},
   "outputs": [],
   "source": [
    "x[1:][dydx[1:]*dydx[:-1]<0]"
   ]
  },
  {
   "cell_type": "markdown",
   "id": "28b2f1d4-3095-4508-a762-7a8b7216a44d",
   "metadata": {},
   "source": [
    "This (rootfinding ) is like we have graph and there is data points at one point when we go below from above and above from below we get at a point where we get origin "
   ]
  },
  {
   "cell_type": "markdown",
   "id": "57205002-253a-4f0d-bc8d-3e5ce7ea95cc",
   "metadata": {},
   "source": [
    "# Question \n",
    "- Sum together every number from 0 to 10000 except fot those that can not be divided by 4 or 7. Do this in one line of code "
   ]
  },
  {
   "cell_type": "code",
   "execution_count": null,
   "id": "c3056d24-2f07-4313-a1d2-ff8e983f0618",
   "metadata": {},
   "outputs": [],
   "source": [
    "np.arange(0,10001,1)"
   ]
  },
  {
   "cell_type": "code",
   "execution_count": null,
   "id": "503b5521-9015-4443-b039-b0ca646d3ada",
   "metadata": {},
   "outputs": [],
   "source": [
    "# example (we are checking all the numbers that can  be divided by 4)\n",
    "np.array([4,8,10])%4"
   ]
  },
  {
   "cell_type": "code",
   "execution_count": null,
   "id": "11d708d6-c425-4b9f-9aaf-37f4d694d90d",
   "metadata": {},
   "outputs": [],
   "source": [
    "np.arange(0,10001,1)%4"
   ]
  },
  {
   "cell_type": "code",
   "execution_count": null,
   "id": "d82b278c-1ae9-4580-a9b5-25e1b2aabbf9",
   "metadata": {},
   "outputs": [],
   "source": [
    "# numbers not divided by four \n",
    "np.arange(0,10001,1)%4!=0"
   ]
  },
  {
   "cell_type": "code",
   "execution_count": null,
   "id": "177a56bb-1ddd-478d-b68c-d028cb180171",
   "metadata": {},
   "outputs": [],
   "source": [
    "(np.arange(0,10001,1)%4!=0)*(np.arange(0,10001,1)%7!=0)"
   ]
  },
  {
   "cell_type": "code",
   "execution_count": null,
   "id": "09b79904-3dc5-4e70-b162-50dd79fd828b",
   "metadata": {},
   "outputs": [],
   "source": [
    "num = np.arange(0,10001,1)"
   ]
  },
  {
   "cell_type": "code",
   "execution_count": null,
   "id": "87303eb7-0509-46bd-8cae-72f5b1d3ff9c",
   "metadata": {},
   "outputs": [],
   "source": [
    "sum(num[(num%4!=0)*(num%7!=0)])"
   ]
  },
  {
   "cell_type": "markdown",
   "id": "3611c491-9e53-4506-b007-a904a1535db7",
   "metadata": {},
   "source": [
    "# Question 3 (Polar Coordinates)\n",
    "- Consider the flower petal $r(\\theta) = 1+3/4 sin(3\\theta)$ for  $0 <= \\theta <= 2\\pi $\n",
    "1. Make a plot of the flower ( find x and Y points)\n",
    "2. Compute the area using the calculus formula $A = \\int_{0}^{2\\pi}  \\frac{1}{2}r^2{d\\theta}$\n",
    "3. Compute the arclength using the calculus formula $L = \\int_{0}^{2\\pi} \\sqrt{r^2 + (\\frac{dr}{d\\theta})^2 d\\theta}$"
   ]
  },
  {
   "cell_type": "code",
   "execution_count": null,
   "id": "a993fa36-988f-43f0-aadd-ca7a84edc0e1",
   "metadata": {},
   "outputs": [],
   "source": [
    "#1\n",
    "theta = np.linspace(0,2*np.pi,1000)\n",
    "r = 1+3/4*np.sin(3*theta)"
   ]
  },
  {
   "cell_type": "markdown",
   "id": "5fe7a24a-7161-401e-8f06-eb0a3e7bbf59",
   "metadata": {},
   "source": [
    "- Magnetic field of any current loop is $r(\\theta) = 1+3/4 sin(3\\theta)$\n",
    "- We know that $x = rcos(\\theta)$ and $y = rsin(\\theta)$"
   ]
  },
  {
   "cell_type": "code",
   "execution_count": null,
   "id": "ae935e2e-30c2-4f0d-ba71-b46f366e8203",
   "metadata": {},
   "outputs": [],
   "source": [
    "x = r*np.cos(theta)\n",
    "y = r*np.sin(theta)"
   ]
  },
  {
   "cell_type": "code",
   "execution_count": null,
   "id": "a417f215-505a-44f7-ae1e-17e6914c2074",
   "metadata": {},
   "outputs": [],
   "source": [
    "plt.plot(x,y,'y')"
   ]
  },
  {
   "cell_type": "code",
   "execution_count": null,
   "id": "6f35a1cf-38a6-4459-90a4-a5dfccd8f358",
   "metadata": {},
   "outputs": [],
   "source": [
    "#2.\n",
    "A = 1/2*sum(r**2)*(theta[1]-theta[0])\n",
    "A"
   ]
  },
  {
   "cell_type": "code",
   "execution_count": null,
   "id": "c399ae63-28aa-4b0e-b4c4-08fc76402808",
   "metadata": {},
   "outputs": [],
   "source": [
    "#3.\n",
    "L = sum(np.sqrt(r**2 + np.gradient(r,theta)**2))*(theta[1] - theta[0])\n",
    "L"
   ]
  },
  {
   "cell_type": "markdown",
   "id": "204309f4-b858-4c6e-acf1-040e1925b38b",
   "metadata": {},
   "source": [
    "We used sum for integral and gradient for differentiation"
   ]
  },
  {
   "cell_type": "markdown",
   "id": "0d96eff0-76fc-47e0-9455-8ac34395924b",
   "metadata": {},
   "source": [
    "# Question \n",
    "- The power emitted by a blackbody is $P = A \\sigma \\epsilon T^4$ . After measuring the temperature of a star you find that $T(t) = T_o \\frac{1}{1+e^{-kt}}$ . Plot the total  energy emitted by the star as a function of time using a fact that $E(t) = \\int_{t^{1} = 0}^{t^{1}=t} P(t^{1}) dt^{1}$"
   ]
  },
  {
   "cell_type": "markdown",
   "id": "03ad71fc-1bed-4342-8524-f72cb39d532d",
   "metadata": {},
   "source": [
    "- $p/(A\\sigma\\epsilon T_o) = (\\frac{1}{1+e^{-kt}})^4$"
   ]
  },
  {
   "cell_type": "code",
   "execution_count": null,
   "id": "8b1ada7a-63f7-478f-be5b-fbc2bfac5927",
   "metadata": {},
   "outputs": [],
   "source": [
    "kt = np.linspace(0,3,100)\n",
    "p = (1/(1+np.exp(-kt)))**4"
   ]
  },
  {
   "cell_type": "code",
   "execution_count": null,
   "id": "8322ab2e-e899-4271-92fd-4394b83966ef",
   "metadata": {},
   "outputs": [],
   "source": [
    "plt.plot(kt,p)"
   ]
  },
  {
   "cell_type": "code",
   "execution_count": null,
   "id": "0c1e30ef-5fdb-4b49-8dc5-24db17353ff5",
   "metadata": {},
   "outputs": [],
   "source": [
    "E = np.cumsum(p)*(kt[1]-kt[0])\n"
   ]
  },
  {
   "cell_type": "code",
   "execution_count": null,
   "id": "e4062bc5-04f9-44f9-bd18-a267c38ac5ea",
   "metadata": {},
   "outputs": [],
   "source": [
    "plt.plot(kt,p,'black')\n",
    "plt.plot(kt,E,'r')\n",
    "plt.xlabel('$kt$', fontsize = 20)\n",
    "plt.ylabel('$p/(A\\sigma\\epsilon)    (E(kt))$',fontsize = 20)"
   ]
  },
  {
   "cell_type": "markdown",
   "id": "af64c8aa-b821-4044-a554-eef141ac2721",
   "metadata": {},
   "source": [
    "# Multidimensional Arrays"
   ]
  },
  {
   "cell_type": "code",
   "execution_count": null,
   "id": "fcfef22d-3b3b-468b-9dd3-c504bcad681d",
   "metadata": {},
   "outputs": [],
   "source": [
    "# crating multi dim Arrays\n",
    "a = np.array([[2,1,5,4],[21,22,5,5],[4,5,9,8]])\n",
    "a"
   ]
  },
  {
   "cell_type": "code",
   "execution_count": null,
   "id": "997152e5-316a-4a72-b79a-4fa46a6951f9",
   "metadata": {},
   "outputs": [],
   "source": [
    "# To convert any dim Array into one dim (use np.ravel)\n",
    "a.ravel()"
   ]
  },
  {
   "cell_type": "code",
   "execution_count": null,
   "id": "e8019438-f916-4142-bf85-7e3b1b77d147",
   "metadata": {},
   "outputs": [],
   "source": [
    "a>5"
   ]
  },
  {
   "cell_type": "code",
   "execution_count": null,
   "id": "6d7004ac-f802-4bf2-964d-1744f11188f4",
   "metadata": {},
   "outputs": [],
   "source": [
    "a1 = np.random.randn(3,3,3),\n",
    "a1"
   ]
  },
  {
   "cell_type": "markdown",
   "id": "7e320eec-5645-4429-ad86-6cb0cb321c0f",
   "metadata": {},
   "source": [
    "Gives 3 sim arrays and 3 diff 3 dim arrays"
   ]
  },
  {
   "cell_type": "code",
   "execution_count": null,
   "id": "198ba35f-d581-433a-a983-0dcfc4a3c32e",
   "metadata": {},
   "outputs": [],
   "source": [
    "a = np.random.randn(3,3)\n",
    "a"
   ]
  },
  {
   "cell_type": "code",
   "execution_count": null,
   "id": "f8f54db8-f87a-4821-9a3b-7489976a991f",
   "metadata": {},
   "outputs": [],
   "source": [
    "a[a>1]"
   ]
  },
  {
   "cell_type": "code",
   "execution_count": null,
   "id": "15729b4b-63f9-4497-8670-01a171aa2c08",
   "metadata": {},
   "outputs": [],
   "source": [
    "#Element indexing\n",
    "a[0]"
   ]
  },
  {
   "cell_type": "code",
   "execution_count": null,
   "id": "8a883c5e-c901-4258-af03-af4a45c46fdf",
   "metadata": {},
   "outputs": [],
   "source": [
    "# gives only last row \n",
    "a[2]"
   ]
  },
  {
   "cell_type": "code",
   "execution_count": null,
   "id": "d0c04ce9-88c1-4a73-a08b-e1543c7e0527",
   "metadata": {},
   "outputs": [],
   "source": [
    "# Gives all the rows and 1st col\n",
    "a[:,0]"
   ]
  },
  {
   "cell_type": "code",
   "execution_count": null,
   "id": "73ab9790-e302-4ee4-a6a1-cf6273f5a6ec",
   "metadata": {},
   "outputs": [],
   "source": [
    "a[1:,2]"
   ]
  },
  {
   "cell_type": "markdown",
   "id": "2346db7e-7899-4d6f-8274-6e295bef4775",
   "metadata": {},
   "source": [
    "# Dealing with 2D functions \n",
    "- meshgrid is used to convert 2 diff arrays of diff or same lenght into 2D Array"
   ]
  },
  {
   "cell_type": "code",
   "execution_count": null,
   "id": "6f813ee0-e01f-440c-a047-3822536323b5",
   "metadata": {},
   "outputs": [],
   "source": [
    "x = np.linspace(0,10,1000)\n",
    "y = np.linspace(0,10,1000)"
   ]
  },
  {
   "cell_type": "code",
   "execution_count": null,
   "id": "10f751ff-0aed-469c-b02c-9c2cec569188",
   "metadata": {},
   "outputs": [],
   "source": [
    "xv,yv = np.meshgrid(x,y)\n",
    "zv = xv**2+yv**2"
   ]
  },
  {
   "cell_type": "code",
   "execution_count": null,
   "id": "d6e666ae-6c82-4683-bae5-803e164c77eb",
   "metadata": {},
   "outputs": [],
   "source": [
    "# Contour plot\n",
    "plt.contour(xv,yv,zv,levels = 30)\n",
    "plt.colorbar()"
   ]
  },
  {
   "cell_type": "code",
   "execution_count": null,
   "id": "2d733ab6-68e3-40b2-a861-ca58ae240aac",
   "metadata": {},
   "outputs": [],
   "source": [
    "# Basic Linear Algebra Matrix Operations\n",
    "A = np.array([[3,2,1],[5,-5,4],[6,0,1]])\n",
    "b1 = np.array([1,2,3])\n",
    "b2 = np.array([-1,2,-5])"
   ]
  },
  {
   "cell_type": "markdown",
   "id": "ae1b7e9d-781d-4956-ac9c-d09d105ed49d",
   "metadata": {},
   "source": [
    "A is matrix and b1 and b2 is vectors "
   ]
  },
  {
   "cell_type": "code",
   "execution_count": null,
   "id": "5d481d04-b28f-4bda-afa9-162bb2cfba72",
   "metadata": {},
   "outputs": [],
   "source": [
    "# matrix operations (@ means into (operation))\n",
    "A@b1"
   ]
  },
  {
   "cell_type": "code",
   "execution_count": null,
   "id": "0473059f-8fd5-47b0-88c6-9c9366e8cfd2",
   "metadata": {},
   "outputs": [],
   "source": [
    "# Transpose\n",
    "A.T"
   ]
  },
  {
   "cell_type": "code",
   "execution_count": null,
   "id": "c1095c3d-462d-4f04-bddc-ed4a46f02785",
   "metadata": {},
   "outputs": [],
   "source": [
    "# Finding dot product \n",
    "np.dot(b1,b2)"
   ]
  },
  {
   "cell_type": "code",
   "execution_count": null,
   "id": "2565f8a0-0bdb-4573-91c8-e284ad8764b5",
   "metadata": {},
   "outputs": [],
   "source": [
    "# finding cross product\n",
    "np.cross(b1,b2)"
   ]
  },
  {
   "cell_type": "markdown",
   "id": "e2977b2a-6b20-4be8-8568-de2853b068f2",
   "metadata": {},
   "source": [
    "# System Of Equations\n",
    "- $3x+2y+z = 4$\n",
    "- $5x-5y+4 = 3$\n",
    "- $6x+z = 0$"
   ]
  },
  {
   "cell_type": "code",
   "execution_count": null,
   "id": "ab29d674-2e3f-4bea-b210-59b089a57e40",
   "metadata": {},
   "outputs": [],
   "source": [
    "A = np.array([[3,2,1],[5,-5,4],[6,0,1]])\n",
    "c = np.array([4,3,0])"
   ]
  },
  {
   "cell_type": "code",
   "execution_count": null,
   "id": "3814d9d1-7c9a-4759-84ac-8a895c2a4d7b",
   "metadata": {},
   "outputs": [],
   "source": [
    "# To solve the equation\n",
    "np.linalg.solve(A,c)"
   ]
  },
  {
   "cell_type": "code",
   "execution_count": null,
   "id": "b8924c00-46f6-4cc8-a62c-fc187a957858",
   "metadata": {},
   "outputs": [],
   "source": [
    "# Finding eigen values and eigen vector\n",
    "w,v = np.linalg.eig(A)"
   ]
  },
  {
   "cell_type": "markdown",
   "id": "33a4fc9d-907e-4c1f-af42-a9dd2d224791",
   "metadata": {},
   "source": [
    "W = eigen values and v = eigen vectors"
   ]
  },
  {
   "cell_type": "code",
   "execution_count": null,
   "id": "f46dd3bd-acda-42b1-8a38-88952d8175f6",
   "metadata": {},
   "outputs": [],
   "source": [
    "w,v"
   ]
  },
  {
   "cell_type": "code",
   "execution_count": null,
   "id": "c350b526-4bd5-44f5-bafb-444c0b294ccd",
   "metadata": {},
   "outputs": [],
   "source": [
    "v1 = v[:,0]\n",
    "v1"
   ]
  },
  {
   "cell_type": "code",
   "execution_count": null,
   "id": "887a7db0-14d6-4f7f-9c5c-7d459297ffaa",
   "metadata": {},
   "outputs": [],
   "source": [
    "A@v1"
   ]
  },
  {
   "cell_type": "code",
   "execution_count": null,
   "id": "9f5209ec-2d52-440e-924f-78d29f0ce75a",
   "metadata": {},
   "outputs": [],
   "source": [
    "w[0]*v1"
   ]
  },
  {
   "cell_type": "markdown",
   "id": "e9efd2e4-debb-435d-8b2a-0e9724b18bcb",
   "metadata": {},
   "source": [
    "# Example\n",
    "Let $f(x,y) = e^{-(x^2+y^2)}sin(x)$ for $-2\\le y \\ge 2$\n",
    "1. Make a Contour plot of $f$\n",
    "2. Find the  volume $|f(x,y)|$ on the specified $x$&$y$ range \n",
    "3. Find the value $|f(x,y)|$ only in the region where $\\sqrt{x^2+y^2} >0.5$ "
   ]
  },
  {
   "cell_type": "code",
   "execution_count": null,
   "id": "fc25faa4-4032-4d92-b923-cb84e2be0c0f",
   "metadata": {},
   "outputs": [],
   "source": [
    "#1\n",
    "x = np.linspace(-2,2,1000)\n",
    "y = np.linspace(-2,2,1000)\n",
    "xv,yv = np.meshgrid(x,y)"
   ]
  },
  {
   "cell_type": "code",
   "execution_count": null,
   "id": "af60256a-0d5e-4459-bd90-14e560893f2a",
   "metadata": {},
   "outputs": [],
   "source": [
    "f = np.exp(-(xv**2+yv**2))*np.sin(xv)"
   ]
  },
  {
   "cell_type": "code",
   "execution_count": null,
   "id": "6acd346b-b7ef-4bea-853b-87a4ffbef305",
   "metadata": {},
   "outputs": [],
   "source": [
    "plt.contourf(xv,yv,levels=100)\n",
    "plt.colorbar()"
   ]
  },
  {
   "cell_type": "code",
   "execution_count": null,
   "id": "9474cab5-f6b7-43c5-abf4-413794a2a256",
   "metadata": {},
   "outputs": [],
   "source": [
    "#2 \n",
    "# f is 2D array (so convert it into a 1D array)\n",
    "np.abs(f.ravel())"
   ]
  },
  {
   "cell_type": "markdown",
   "id": "138d95d9-3fa9-42f6-9004-d652d4f7941a",
   "metadata": {},
   "source": [
    "np.diff(x)[0] (this is dx) np.diff(y)[0] (this is dy)"
   ]
  },
  {
   "cell_type": "code",
   "execution_count": null,
   "id": "545729f2-75a1-4c81-bb14-e63a6d6df68a",
   "metadata": {},
   "outputs": [],
   "source": [
    "np.abs(f.ravel()).sum()*np.diff(x)[0]*np.diff(y)[0]"
   ]
  },
  {
   "cell_type": "code",
   "execution_count": null,
   "id": "75d72115-b55a-4879-b899-444edbd0c211",
   "metadata": {},
   "outputs": [],
   "source": [
    "import warnings\n",
    "warnings.filterwarnings('ignore')"
   ]
  },
  {
   "cell_type": "code",
   "execution_count": null,
   "id": "aeef187f-23a2-4afb-b8d7-f63475115295",
   "metadata": {},
   "outputs": [],
   "source": [
    "#3. (this ia a bit difficult)\n",
    "xv**+yv**2 >0.5**2"
   ]
  },
  {
   "cell_type": "code",
   "execution_count": null,
   "id": "9987e7b0-dfff-4e81-b61a-54c063e67d9d",
   "metadata": {},
   "outputs": [],
   "source": [
    "np.abs(f[xv**+yv**2 >0.5**2].ravel()).sum()*np.diff(x)[0]*np.diff(y)[0]"
   ]
  },
  {
   "cell_type": "markdown",
   "id": "1b4f0c72-16d0-4018-ba5a-01c947fb11e8",
   "metadata": {},
   "source": [
    "# Question \n",
    "## After axamining a circuit full of resistors you find the voltage at 4 specified points is given by \n",
    "- $3V_1 + 2V_2 + 3V_3 +10V_)4 = 4$\n",
    "- $ 2V_1 - 2V_2 + 5V_3 + 8V_4 = 3$\n",
    "- $3V_1 + 4V_2 -3V_3 - 7V_4 = 2$\n",
    "- find all the voltages"
   ]
  },
  {
   "cell_type": "code",
   "execution_count": null,
   "id": "713c624f-02b2-4855-9a0d-5f5b35ef486d",
   "metadata": {},
   "outputs": [],
   "source": [
    "A = np.array([[3,2,3,10],[2,-2,5,8],[3,3,4,9],[3,4,-3,-7]])\n",
    "c = np.array([4,1,3,2])"
   ]
  },
  {
   "cell_type": "code",
   "execution_count": null,
   "id": "5e21a98b-db14-4668-afdb-0a5eb828056c",
   "metadata": {},
   "outputs": [],
   "source": [
    "np.linalg.solve(A,c)"
   ]
  },
  {
   "cell_type": "markdown",
   "id": "f8c0da5e-8fb4-4d93-8f7d-351705e809d9",
   "metadata": {},
   "source": [
    "# Question \n",
    "- An electric field is given by $\\vec{E}(Z,t) = E_ocos(Z-t)\\hat{x}+2E_o cos(Z-t+\\pi/2)\\hat{y}$\n",
    "1. Find the magnetic field for all $Z$ $\\epsilon$ $[0,4\\pi]$ and $t$ $\\epsilon$ $[0,10]$ using $\\vec{B}(Z,t)$ = $\\hat{Z}\\times\\hat{E}(Z,t)$\n",
    "2. Compute the poynting vector $\\vec{S}$ = $\\vec{E}\\times\\vec{B}$ for all $Z$ and $t$"
   ]
  },
  {
   "cell_type": "code",
   "execution_count": null,
   "id": "83ef9133-cef8-4249-a461-a28c448cd1cf",
   "metadata": {},
   "outputs": [],
   "source": [
    "#1.\n",
    "z = np.linspace(0,4*np.pi,100)\n",
    "t = np.linspace(0,10,100)\n",
    "tv,zv = np.meshgrid(t,z)"
   ]
  },
  {
   "cell_type": "code",
   "execution_count": null,
   "id": "9a76cc55-5623-4edd-a549-a494007f170c",
   "metadata": {},
   "outputs": [],
   "source": [
    "Ex = np.cos(zv-tv)\n",
    "Ey = 2*np.cos(zv-tv+np.pi/2)\n",
    "Ez = 0*tv"
   ]
  },
  {
   "cell_type": "code",
   "execution_count": null,
   "id": "9e17a009-533d-4a62-92fd-8855e1299d49",
   "metadata": {},
   "outputs": [],
   "source": [
    "Ex"
   ]
  },
  {
   "cell_type": "code",
   "execution_count": null,
   "id": "f1948859-baee-492c-ac4e-4f3339c76d8a",
   "metadata": {},
   "outputs": [],
   "source": [
    "plt.plot(t,Ex[0])"
   ]
  },
  {
   "cell_type": "markdown",
   "id": "addf85c5-5aeb-43b7-8961-77fa15fd25e4",
   "metadata": {},
   "source": [
    "$E_x$ as functttion of $t$ at $z=0$"
   ]
  },
  {
   "cell_type": "code",
   "execution_count": null,
   "id": "df837138-e0f6-4dbf-a028-8e088c89df6f",
   "metadata": {},
   "outputs": [],
   "source": [
    "plt.plot(t,Ex[:,0])"
   ]
  },
  {
   "cell_type": "markdown",
   "id": "0f72cf39-76a4-4cbe-9a88-ecfc0be6a570",
   "metadata": {},
   "source": [
    "$E_x$ as functttion of $z$ at $t=0$"
   ]
  },
  {
   "cell_type": "code",
   "execution_count": null,
   "id": "56b6e379-f47d-4171-befd-67fd2bce75df",
   "metadata": {},
   "outputs": [],
   "source": [
    "E = np.array([Ex,Ey,Ez])\n"
   ]
  },
  {
   "cell_type": "code",
   "execution_count": null,
   "id": "011401a4-aae4-404c-b858-9ac63f46309a",
   "metadata": {},
   "outputs": [],
   "source": [
    "E = np.swapaxes(E,0,-1)\n",
    "E"
   ]
  },
  {
   "cell_type": "markdown",
   "id": "da5d8853-4678-400a-8718-43c51c4b109e",
   "metadata": {},
   "source": [
    "Inorder to swap the axes and name (x,y,z) into one single vector insted of x diff, y diff and z diff"
   ]
  },
  {
   "cell_type": "code",
   "execution_count": null,
   "id": "121dbd7a-f22f-4318-b4b7-e022575d83bb",
   "metadata": {},
   "outputs": [],
   "source": [
    "B = np.cross(np.array([0,0,1]),E)\n"
   ]
  },
  {
   "cell_type": "code",
   "execution_count": null,
   "id": "126dae6f-95af-454c-80dd-bfe887548ce9",
   "metadata": {},
   "outputs": [],
   "source": [
    "B = np.swapaxes(B,0,-1)"
   ]
  },
  {
   "cell_type": "markdown",
   "id": "0d209bfb-ca53-4379-bdf5-19df032818ff",
   "metadata": {},
   "source": [
    "Inorder to make it original "
   ]
  },
  {
   "cell_type": "code",
   "execution_count": null,
   "id": "ee734cd6-0a13-4f71-9482-2adba26c3217",
   "metadata": {},
   "outputs": [],
   "source": [
    "Bx,By,Bz = B"
   ]
  },
  {
   "cell_type": "code",
   "execution_count": null,
   "id": "13f95de2-475e-4ca3-8d40-3363455a2d4d",
   "metadata": {},
   "outputs": [],
   "source": [
    "plt.plot(t,Ey[0])\n",
    "plt.plot(t,Bx[0])"
   ]
  },
  {
   "cell_type": "code",
   "execution_count": null,
   "id": "b507aa8e-dc37-47cc-91bd-35b594d1fd07",
   "metadata": {},
   "outputs": [],
   "source": [
    "#3.\n",
    "B = np.swapaxes(B,0,-1) # because it is not in the right form \n"
   ]
  },
  {
   "cell_type": "markdown",
   "id": "6570d3f4-2b2d-41c8-bfb1-f21843029e24",
   "metadata": {},
   "source": [
    "E was in the correct form (vector,vector,vector(3 sep vec)) whereas B was not in the correct form it is in 2D array form thats why we swapd axes of B"
   ]
  },
  {
   "cell_type": "code",
   "execution_count": null,
   "id": "da10483b-c57d-46c7-bfd0-3c3a2e4ae537",
   "metadata": {},
   "outputs": [],
   "source": [
    "S = np.cross(E,B)"
   ]
  },
  {
   "cell_type": "code",
   "execution_count": null,
   "id": "29cd75be-90d0-484e-b4ca-33676b58fb48",
   "metadata": {},
   "outputs": [],
   "source": [
    "S = np.swapaxes(S,0,-1)\n"
   ]
  },
  {
   "cell_type": "code",
   "execution_count": null,
   "id": "a2c1d83c-35f0-4e7e-ad36-8d1b986201ec",
   "metadata": {},
   "outputs": [],
   "source": [
    "Sx,Sy,Sz = S"
   ]
  },
  {
   "cell_type": "code",
   "execution_count": null,
   "id": "cc333fba-d97d-4e31-a73b-161dcfabfa54",
   "metadata": {},
   "outputs": [],
   "source": [
    "Sz"
   ]
  },
  {
   "cell_type": "markdown",
   "id": "c367f4ca-823a-4af8-8cf9-db31ea193af0",
   "metadata": {},
   "source": [
    "# Question 4 \n",
    "- Find the solution to $(\\frac{d^2}{dx^2}+(10x)^2)f$ = $\\lambda$$f$ with boundary condition $f(0) = f(1) = 0$ \n",
    "- use the eigenvalue method and the fact that $\\frac{d^2f}{dx^2}\\approx \\frac{f_{i+1}+f_{i-1}-2f_i}{\\Delta x^2}$ where $f_i = f(i\\Delta x)$ and $i$ is an integer ( it is int he form $(\\frac{d^2}{dx^2}+h(x))f(x)$ = $\\lambda$$f$)"
   ]
  },
  {
   "cell_type": "code",
   "execution_count": null,
   "id": "bd8b7c1f-d27f-4592-85fc-cd925e382451",
   "metadata": {},
   "outputs": [],
   "source": [
    "N = 1000\n",
    "x = np.linspace(0,1,N+1)\n",
    "dx = x[1]-x[0]\n",
    "moving_diag = -2*np.ones(N-1)\n",
    "off_diag = np.ones(N-2)"
   ]
  },
  {
   "cell_type": "code",
   "execution_count": null,
   "id": "a0fbd030-66eb-4b04-a682-14c0a14ad67d",
   "metadata": {},
   "outputs": [],
   "source": [
    "deriv_matr = np.diag(moving_diag)\n",
    "deriv_matr"
   ]
  },
  {
   "cell_type": "code",
   "execution_count": null,
   "id": "6258cc04-8005-4614-b0fd-de837656f4fe",
   "metadata": {},
   "outputs": [],
   "source": [
    "np.diag(moving_diag)"
   ]
  },
  {
   "cell_type": "code",
   "execution_count": null,
   "id": "3435e3bb-32d7-41b2-8faa-0c3147cb2c62",
   "metadata": {},
   "outputs": [],
   "source": [
    "np.diag(off_diag,1)"
   ]
  },
  {
   "cell_type": "code",
   "execution_count": null,
   "id": "2cb9ba55-2e29-4bae-a467-e306f8f6f4b6",
   "metadata": {},
   "outputs": [],
   "source": [
    "deriv_matr = (np.diag(moving_diag) + np.diag(off_diag,-1) + np.diag(off_diag,1))/dx**2\n",
    "deriv_matr"
   ]
  },
  {
   "cell_type": "code",
   "execution_count": null,
   "id": "7294772a-bca8-4017-ad2a-518c4bff668e",
   "metadata": {},
   "outputs": [],
   "source": [
    "x2_matrix  = np.diag((10*x[1:-1])**2)"
   ]
  },
  {
   "cell_type": "code",
   "execution_count": null,
   "id": "9d854303-1f39-4dc5-8a72-2b642b3ffd9d",
   "metadata": {},
   "outputs": [],
   "source": [
    "LHS_matrix = deriv_matr + x2_matrix"
   ]
  },
  {
   "cell_type": "code",
   "execution_count": null,
   "id": "0f0a35db-c931-4bf4-b17f-435523a60693",
   "metadata": {},
   "outputs": [],
   "source": [
    "w,v = np.linalg.eigh(LHS_matrix)"
   ]
  },
  {
   "cell_type": "code",
   "execution_count": null,
   "id": "b2712e6d-37a4-4f95-a3d7-ce604909c7f1",
   "metadata": {},
   "outputs": [],
   "source": [
    "w[-1]"
   ]
  },
  {
   "cell_type": "markdown",
   "id": "f59bdb7f-c244-4107-965e-565e01c16d27",
   "metadata": {},
   "source": [
    "smallest of eigen values "
   ]
  },
  {
   "cell_type": "code",
   "execution_count": null,
   "id": "1a740258-55aa-4d85-999e-d305138dbb94",
   "metadata": {},
   "outputs": [],
   "source": [
    "# plot all the eigen vectors \n",
    "plt.plot(v[:,-1])\n",
    "plt.plot(v[:-2])\n",
    "plt.plot(v[:,-3])\n",
    "plt.plot(v[:,-4])\n",
    "plt.show()"
   ]
  },
  {
   "cell_type": "code",
   "execution_count": null,
   "id": "b6e63cfb-84a5-45bb-8d9d-23ff266522fd",
   "metadata": {},
   "outputs": [],
   "source": []
  },
  {
   "cell_type": "code",
   "execution_count": null,
   "id": "81e2f2eb-e716-4ca5-9453-df4234489ac4",
   "metadata": {},
   "outputs": [],
   "source": [
    "# to convert dtyoe to string \n",
    "# name.astyoe(str)"
   ]
  },
  {
   "cell_type": "code",
   "execution_count": null,
   "id": "81f63ee4-193d-4522-aed8-b0ed8d6bea59",
   "metadata": {},
   "outputs": [],
   "source": [
    "# To convert dtype to float \n",
    "# height.astype(float)"
   ]
  },
  {
   "cell_type": "code",
   "execution_count": null,
   "id": "a74fdc5f-145b-4e39-865c-4fd5d4b1f992",
   "metadata": {},
   "outputs": [],
   "source": []
  },
  {
   "cell_type": "code",
   "execution_count": null,
   "id": "c9b829be-d61c-44d9-a8a2-3c8c1b152be1",
   "metadata": {},
   "outputs": [],
   "source": []
  },
  {
   "cell_type": "code",
   "execution_count": null,
   "id": "4df6cb66-f13a-4022-b804-9e2e94f65644",
   "metadata": {},
   "outputs": [],
   "source": []
  },
  {
   "cell_type": "code",
   "execution_count": null,
   "id": "c6cd2908-c3b2-4b46-8e45-da803a19608f",
   "metadata": {},
   "outputs": [],
   "source": []
  },
  {
   "cell_type": "code",
   "execution_count": null,
   "id": "8385ccb8-4b99-47f8-9fd5-27dfb9a65e60",
   "metadata": {},
   "outputs": [],
   "source": []
  },
  {
   "cell_type": "code",
   "execution_count": null,
   "id": "81e13696-5872-43af-b118-2e1676b1f505",
   "metadata": {},
   "outputs": [],
   "source": []
  },
  {
   "cell_type": "code",
   "execution_count": null,
   "id": "926fd411-9d0a-41be-ae8b-7193487c9ac3",
   "metadata": {},
   "outputs": [],
   "source": []
  },
  {
   "cell_type": "code",
   "execution_count": null,
   "id": "bb2e8ebe-5729-480b-80f0-e95c5d84127b",
   "metadata": {},
   "outputs": [],
   "source": []
  },
  {
   "cell_type": "code",
   "execution_count": null,
   "id": "b38ee450-ef2b-4e89-8da4-0b9126bb7ea7",
   "metadata": {},
   "outputs": [],
   "source": []
  },
  {
   "cell_type": "code",
   "execution_count": null,
   "id": "3c7280b4-0644-4c46-8feb-5746ebf72ecd",
   "metadata": {},
   "outputs": [],
   "source": []
  },
  {
   "cell_type": "code",
   "execution_count": null,
   "id": "810c3aaf-66ab-4771-9bc5-6e9670ee252f",
   "metadata": {},
   "outputs": [],
   "source": []
  },
  {
   "cell_type": "code",
   "execution_count": null,
   "id": "2f05d434-6f42-42db-a7c6-2266524ceff1",
   "metadata": {},
   "outputs": [],
   "source": []
  },
  {
   "cell_type": "code",
   "execution_count": null,
   "id": "8135c48d-a496-4882-a83b-01f07251a68d",
   "metadata": {},
   "outputs": [],
   "source": []
  },
  {
   "cell_type": "code",
   "execution_count": null,
   "id": "13713be7-cbee-4c98-a1f9-ceb7a8345751",
   "metadata": {},
   "outputs": [],
   "source": []
  },
  {
   "cell_type": "code",
   "execution_count": null,
   "id": "17fe100f-5ae5-4583-bd63-ec3bfb6c9b26",
   "metadata": {},
   "outputs": [],
   "source": []
  },
  {
   "cell_type": "code",
   "execution_count": null,
   "id": "06645cd6-5543-4d38-9dc5-94d8cb6a1103",
   "metadata": {},
   "outputs": [],
   "source": []
  },
  {
   "cell_type": "code",
   "execution_count": null,
   "id": "1204ba48-bf02-4489-a13f-c606b1b849e0",
   "metadata": {},
   "outputs": [],
   "source": []
  },
  {
   "cell_type": "code",
   "execution_count": null,
   "id": "d3e6183f-af42-4e95-91eb-057549abcfd3",
   "metadata": {},
   "outputs": [],
   "source": []
  },
  {
   "cell_type": "code",
   "execution_count": null,
   "id": "516ee47f-68dc-4a63-b213-305c5ecaeed8",
   "metadata": {},
   "outputs": [],
   "source": []
  },
  {
   "cell_type": "code",
   "execution_count": null,
   "id": "af80a8ea-423f-4f19-befb-7a04d817b3ee",
   "metadata": {},
   "outputs": [],
   "source": []
  },
  {
   "cell_type": "code",
   "execution_count": null,
   "id": "3db6a237-32e9-40c7-83e3-05fc8d788bcf",
   "metadata": {},
   "outputs": [],
   "source": []
  },
  {
   "cell_type": "code",
   "execution_count": null,
   "id": "4967f371-23bb-4619-acf6-270e3b0132ea",
   "metadata": {},
   "outputs": [],
   "source": []
  },
  {
   "cell_type": "code",
   "execution_count": null,
   "id": "8476b0dc-ed81-487c-acbe-bf64cb4111c9",
   "metadata": {},
   "outputs": [],
   "source": []
  },
  {
   "cell_type": "code",
   "execution_count": null,
   "id": "3aa2bc66-c7b5-4456-83ad-96fe12e7b51b",
   "metadata": {},
   "outputs": [],
   "source": []
  },
  {
   "cell_type": "code",
   "execution_count": null,
   "id": "cf429583-1f69-4e7f-bb51-1ab063b877f6",
   "metadata": {},
   "outputs": [],
   "source": []
  },
  {
   "cell_type": "code",
   "execution_count": null,
   "id": "3159703d-bc95-450f-8f2e-ab19da706cbe",
   "metadata": {},
   "outputs": [],
   "source": []
  },
  {
   "cell_type": "code",
   "execution_count": null,
   "id": "67fdc6c2-c80e-4ab1-be15-3af81a47cc81",
   "metadata": {},
   "outputs": [],
   "source": []
  },
  {
   "cell_type": "code",
   "execution_count": null,
   "id": "e03808dc-98e3-49c1-b122-07280162caca",
   "metadata": {},
   "outputs": [],
   "source": []
  },
  {
   "cell_type": "code",
   "execution_count": null,
   "id": "27fa97c9-6201-41c6-9558-f92b0a8b1690",
   "metadata": {},
   "outputs": [],
   "source": []
  },
  {
   "cell_type": "code",
   "execution_count": null,
   "id": "d048db68-7429-4eb3-98fc-2ccd7144dc6c",
   "metadata": {},
   "outputs": [],
   "source": []
  },
  {
   "cell_type": "code",
   "execution_count": null,
   "id": "92556b63-3c4e-496a-a3f6-25299e2085a7",
   "metadata": {},
   "outputs": [],
   "source": []
  },
  {
   "cell_type": "code",
   "execution_count": null,
   "id": "f1710e99-18d3-4494-b9a1-e9706b018f4b",
   "metadata": {},
   "outputs": [],
   "source": []
  },
  {
   "cell_type": "code",
   "execution_count": null,
   "id": "32be4335-8c2b-49bf-b904-7d1a3080e7b8",
   "metadata": {},
   "outputs": [],
   "source": []
  },
  {
   "cell_type": "code",
   "execution_count": null,
   "id": "7eefd13d-c697-49e6-b41c-dc89c27475b0",
   "metadata": {},
   "outputs": [],
   "source": []
  },
  {
   "cell_type": "code",
   "execution_count": null,
   "id": "b583aee9-cd81-4260-9c2a-498c765052ee",
   "metadata": {},
   "outputs": [],
   "source": []
  },
  {
   "cell_type": "code",
   "execution_count": null,
   "id": "f020c942-a955-4a0d-9f43-655fd62a46dc",
   "metadata": {},
   "outputs": [],
   "source": []
  },
  {
   "cell_type": "code",
   "execution_count": null,
   "id": "e878cdb2-e36c-4299-872a-48d801f18514",
   "metadata": {},
   "outputs": [],
   "source": []
  },
  {
   "cell_type": "code",
   "execution_count": null,
   "id": "e2fe7464-fe83-4e22-b731-0801d7987fd5",
   "metadata": {},
   "outputs": [],
   "source": []
  },
  {
   "cell_type": "code",
   "execution_count": null,
   "id": "34ebaa24-2992-4f2d-b0d4-1d1b7bf9cf4d",
   "metadata": {},
   "outputs": [],
   "source": []
  },
  {
   "cell_type": "code",
   "execution_count": null,
   "id": "1c38ce89-742a-4940-a253-1fcd8a65eeb3",
   "metadata": {},
   "outputs": [],
   "source": []
  },
  {
   "cell_type": "code",
   "execution_count": null,
   "id": "99b3a718-87a2-43d7-a7f2-e16f691b5df5",
   "metadata": {},
   "outputs": [],
   "source": []
  },
  {
   "cell_type": "code",
   "execution_count": null,
   "id": "23a4045c-dd12-4a88-b4da-ca8c09ac4e54",
   "metadata": {},
   "outputs": [],
   "source": []
  },
  {
   "cell_type": "code",
   "execution_count": null,
   "id": "47d40784-5f27-41f3-b5f7-30e09903326e",
   "metadata": {},
   "outputs": [],
   "source": []
  },
  {
   "cell_type": "code",
   "execution_count": null,
   "id": "9a9f6f9e-7884-463f-a351-c1f0abc8274b",
   "metadata": {},
   "outputs": [],
   "source": []
  },
  {
   "cell_type": "code",
   "execution_count": null,
   "id": "fe3ea581-375b-4e34-a725-f13b08e69d15",
   "metadata": {},
   "outputs": [],
   "source": []
  },
  {
   "cell_type": "code",
   "execution_count": null,
   "id": "88d3b0dd-6974-4152-a06f-d1ed4552d491",
   "metadata": {},
   "outputs": [],
   "source": []
  },
  {
   "cell_type": "code",
   "execution_count": null,
   "id": "ebddabd8-cb44-4856-8d1c-6e2607ecfd48",
   "metadata": {},
   "outputs": [],
   "source": []
  },
  {
   "cell_type": "code",
   "execution_count": null,
   "id": "39605596-ce0f-4999-9090-ccf6b353bd5b",
   "metadata": {},
   "outputs": [],
   "source": []
  },
  {
   "cell_type": "code",
   "execution_count": null,
   "id": "cdb01aba-2cc4-4566-a02d-35d1f32ba684",
   "metadata": {},
   "outputs": [],
   "source": []
  },
  {
   "cell_type": "code",
   "execution_count": null,
   "id": "421361f2-e9e4-4e64-ab3f-e7c56aa1a0e1",
   "metadata": {},
   "outputs": [],
   "source": []
  },
  {
   "cell_type": "code",
   "execution_count": null,
   "id": "596a6996-6fb1-4b8d-8ee4-0f5c044cf66f",
   "metadata": {},
   "outputs": [],
   "source": []
  },
  {
   "cell_type": "code",
   "execution_count": null,
   "id": "16ab2ca2-4ec4-4e73-a219-c2f641294659",
   "metadata": {},
   "outputs": [],
   "source": []
  },
  {
   "cell_type": "code",
   "execution_count": null,
   "id": "6d4126f5-0372-407f-b1fd-7f5b66219bf8",
   "metadata": {},
   "outputs": [],
   "source": []
  },
  {
   "cell_type": "code",
   "execution_count": null,
   "id": "528c5be3-ef9b-4aef-a542-fbf03db94b73",
   "metadata": {},
   "outputs": [],
   "source": []
  },
  {
   "cell_type": "code",
   "execution_count": null,
   "id": "ddcda691-9796-45cc-a2f9-355c46cd25a5",
   "metadata": {},
   "outputs": [],
   "source": []
  },
  {
   "cell_type": "code",
   "execution_count": null,
   "id": "a1ae6703-571e-459b-9ed0-aadd4cdf93ef",
   "metadata": {},
   "outputs": [],
   "source": []
  },
  {
   "cell_type": "code",
   "execution_count": null,
   "id": "fc863128-76dd-4831-850c-e4e423120a8a",
   "metadata": {},
   "outputs": [],
   "source": []
  },
  {
   "cell_type": "code",
   "execution_count": null,
   "id": "35084f78-d6c2-4691-a594-c4c7478a712e",
   "metadata": {},
   "outputs": [],
   "source": []
  },
  {
   "cell_type": "code",
   "execution_count": null,
   "id": "58f81c44-a0cb-42f4-963c-c41191ffa69a",
   "metadata": {},
   "outputs": [],
   "source": []
  },
  {
   "cell_type": "code",
   "execution_count": null,
   "id": "303a461b-fce4-463f-a0d7-be4175f63dee",
   "metadata": {},
   "outputs": [],
   "source": []
  },
  {
   "cell_type": "code",
   "execution_count": null,
   "id": "ca351e82-ea17-4c6e-9550-9aa71a65acf4",
   "metadata": {},
   "outputs": [],
   "source": []
  },
  {
   "cell_type": "code",
   "execution_count": null,
   "id": "5ffd32a9-e309-4df4-b4e6-b047a269982c",
   "metadata": {},
   "outputs": [],
   "source": []
  },
  {
   "cell_type": "code",
   "execution_count": null,
   "id": "39df00a8-897a-4757-a06c-899fd22c6af8",
   "metadata": {},
   "outputs": [],
   "source": []
  },
  {
   "cell_type": "code",
   "execution_count": null,
   "id": "e3cffb73-aefc-417d-b99b-116f89d9cee6",
   "metadata": {},
   "outputs": [],
   "source": []
  },
  {
   "cell_type": "code",
   "execution_count": null,
   "id": "27f06829-5a72-4f6b-8297-67d276ef4fd7",
   "metadata": {},
   "outputs": [],
   "source": []
  },
  {
   "cell_type": "code",
   "execution_count": null,
   "id": "c648c404-97a1-4376-9792-171ba08e83ba",
   "metadata": {},
   "outputs": [],
   "source": []
  },
  {
   "cell_type": "code",
   "execution_count": null,
   "id": "afd53eda-a19f-4a63-9362-0ddf6bee5eac",
   "metadata": {},
   "outputs": [],
   "source": []
  },
  {
   "cell_type": "code",
   "execution_count": null,
   "id": "2369bb1e-c7ca-49e3-9269-d11ff5b059cb",
   "metadata": {},
   "outputs": [],
   "source": []
  },
  {
   "cell_type": "code",
   "execution_count": null,
   "id": "eab3bcdd-5d29-426e-858d-d6311ff714f3",
   "metadata": {},
   "outputs": [],
   "source": []
  },
  {
   "cell_type": "code",
   "execution_count": null,
   "id": "6752add8-7e65-4d06-8b1f-abea2cfcb285",
   "metadata": {},
   "outputs": [],
   "source": []
  },
  {
   "cell_type": "code",
   "execution_count": null,
   "id": "d94c88f5-b1cd-47a7-ad61-d11a0ee4a954",
   "metadata": {},
   "outputs": [],
   "source": []
  },
  {
   "cell_type": "code",
   "execution_count": null,
   "id": "7698600d-7659-4867-a5a8-4f8df60002f3",
   "metadata": {},
   "outputs": [],
   "source": []
  },
  {
   "cell_type": "code",
   "execution_count": null,
   "id": "75170c58-d269-4f7b-a076-03611f1fe85a",
   "metadata": {},
   "outputs": [],
   "source": []
  },
  {
   "cell_type": "code",
   "execution_count": null,
   "id": "b3a8881f-ffb6-4cfe-adf8-13a553cd8aca",
   "metadata": {},
   "outputs": [],
   "source": []
  },
  {
   "cell_type": "code",
   "execution_count": null,
   "id": "85307967-d3a6-4fda-94b7-b693e5f5ebd0",
   "metadata": {},
   "outputs": [],
   "source": []
  },
  {
   "cell_type": "code",
   "execution_count": null,
   "id": "a89fb488-b03c-4888-b20f-44a88b8406ea",
   "metadata": {},
   "outputs": [],
   "source": []
  },
  {
   "cell_type": "code",
   "execution_count": null,
   "id": "599cd53a-0352-4817-bdfe-bb0a6133c96f",
   "metadata": {},
   "outputs": [],
   "source": []
  },
  {
   "cell_type": "code",
   "execution_count": null,
   "id": "f78c2795-cbe5-44b6-a66c-b6bdad0743d4",
   "metadata": {},
   "outputs": [],
   "source": []
  },
  {
   "cell_type": "code",
   "execution_count": null,
   "id": "b6de46d3-129f-4c5f-9ece-14e78016c1a5",
   "metadata": {},
   "outputs": [],
   "source": []
  },
  {
   "cell_type": "code",
   "execution_count": null,
   "id": "c208e4e9-ab40-4fd9-92ba-824b3b9333c5",
   "metadata": {},
   "outputs": [],
   "source": []
  },
  {
   "cell_type": "code",
   "execution_count": null,
   "id": "c6472504-914c-4970-9e9f-22e3dac6892e",
   "metadata": {},
   "outputs": [],
   "source": []
  },
  {
   "cell_type": "code",
   "execution_count": null,
   "id": "b6c51fec-26c5-4014-a06d-5c1e9a22bb3a",
   "metadata": {},
   "outputs": [],
   "source": []
  },
  {
   "cell_type": "code",
   "execution_count": null,
   "id": "b5cf6ca0-90fa-4a62-b522-7e6ec773e2f1",
   "metadata": {},
   "outputs": [],
   "source": []
  }
 ],
 "metadata": {
  "kernelspec": {
   "display_name": "Python 3",
   "language": "python",
   "name": "python3"
  },
  "language_info": {
   "codemirror_mode": {
    "name": "ipython",
    "version": 3
   },
   "file_extension": ".py",
   "mimetype": "text/x-python",
   "name": "python",
   "nbconvert_exporter": "python",
   "pygments_lexer": "ipython3",
   "version": "3.8.8"
  }
 },
 "nbformat": 4,
 "nbformat_minor": 5
}
